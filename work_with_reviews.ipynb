{
 "cells": [
  {
   "cell_type": "code",
   "execution_count": 50,
   "metadata": {
    "scrolled": true
   },
   "outputs": [
    {
     "name": "stdout",
     "output_type": "stream",
     "text": [
      "Average 1-star percent:  3.6%\n",
      "Average 2-star percent:  4.7%\n",
      "Average 3-star percent: 10.8%\n",
      "Average 4-star percent: 25.2%\n",
      "Average 5-star percent: 55.7%\n",
      "\n",
      " DescribeResult(nobs=156710, minmax=(0.0, 236.0), mean=7.055415386209438, variance=60.19398101546197, skewness=5.1574971888998675, kurtosis=63.0236544115169)\n",
      "https://www.amazon.com/s?k=000100039X, score=22.4, star count=[6, 4, 8, 15, 173]\n",
      "https://www.amazon.com/s?k=0002219417, score=21.2, star count=[3, 0, 6, 23, 124]\n",
      "https://www.amazon.com/s?k=0002726874, score=30.0, star count=[0, 2, 2, 13, 60]\n",
      "https://www.amazon.com/s?k=0006733271, score=31.0, star count=[0, 0, 1, 4, 31]\n",
      "https://www.amazon.com/s?k=0007124015, score=21.8, star count=[25, 35, 53, 158, 1133]\n",
      "https://www.amazon.com/s?k=0007158505, score=64.0, star count=[1, 0, 1, 4, 63]\n",
      "https://www.amazon.com/s?k=0007162219, score=38.0, star count=[0, 1, 1, 10, 38]\n",
      "https://www.amazon.com/s?k=0007164653, score=34.0, star count=[0, 0, 1, 6, 34]\n",
      "https://www.amazon.com/s?k=0007167040, score=33.0, star count=[2, 5, 11, 47, 361]\n",
      "https://www.amazon.com/s?k=0007169914, score=27.5, star count=[1, 1, 4, 15, 109]\n",
      "https://www.amazon.com/s?k=0007171684, score=30.2, star count=[5, 1, 6, 43, 176]\n",
      "https://www.amazon.com/s?k=0007271166, score=21.3, star count=[0, 1, 3, 27, 64]\n",
      "https://www.amazon.com/s?k=0007281447, score=25.5, star count=[3, 4, 11, 86, 278]\n",
      "https://www.amazon.com/s?k=000738422X, score=43.0, star count=[1, 0, 1, 21, 42]\n",
      "https://www.amazon.com/s?k=0007386648, score=22.2, star count=[31, 48, 119, 367, 2605]\n",
      "https://www.amazon.com/s?k=0007436564, score=31.0, star count=[2, 1, 2, 31, 60]\n",
      "https://www.amazon.com/s?k=0007442629, score=37.0, star count=[0, 3, 1, 6, 37]\n",
      "https://www.amazon.com/s?k=0007486774, score=27.0, star count=[0, 1, 2, 22, 54]\n",
      "https://www.amazon.com/s?k=0007514913, score=21.0, star count=[0, 0, 1, 6, 21]\n",
      "https://www.amazon.com/s?k=0007662394, score=26.0, star count=[1, 0, 1, 9, 25]\n",
      "https://www.amazon.com/s?k=0025236601, score=22.0, star count=[0, 1, 1, 3, 22]\n"
     ]
    },
    {
     "data": {
      "image/png": "[encoded data removed]",
      "text/plain": [
       "<Figure size 432x288 with 1 Axes>"
      ]
     },
     "metadata": {
      "needs_background": "light"
     },
     "output_type": "display_data"
    }
   ],
   "source": [
    "rec_count=0\n",
    "ratings=dict()\n",
    "def process(line):\n",
    "    '''parse the line as a JSON record, retrieve the bits we want, and store them in the ratings dictionary'''\n",
    "    import json\n",
    "    review = json.loads(line)\n",
    "    score = int(review['overall'])\n",
    "    asin = review['asin']\n",
    "    if asin not in ratings:\n",
    "        thisbook = [0,0,0,0,0,0]\n",
    "    else:\n",
    "        thisbook = ratings[asin]\n",
    "\n",
    "    thisbook[0]+=1 # zero slot is where we count total number of review scores\n",
    "    thisbook[score]+=1   # count one more of this review score\n",
    "    ratings[review['asin']]=thisbook\n",
    "\n",
    "def madhack12_score(book):\n",
    "    return (book[1]+book[5])/book[3]\n",
    "    \n",
    "\n",
    "import time\n",
    "import os\n",
    "import pickle\n",
    "t0 = time.time()\n",
    "if 0:\n",
    "    dir_path = os.path.dirname(os.path.realpath(__file__))\n",
    "    rev_count=0\n",
    "    with open(dir_path+'./Books_5.json') as f:\n",
    "        for line in f:\n",
    "            process(line)\n",
    "            rev_count+=1\n",
    "            if rev_count%10000==0:print('+' if rev_count%100000==0 else '.',end='',flush=True)\n",
    "\n",
    "    print(\"\\nProcessed %i reviews for %i books in %.2f seconds\"%(rev_count,len(ratings),time.time()-t0))\n",
    "    t1=time.time()\n",
    "\n",
    "    # remove books with too few reviews\n",
    "    too_small = [key for key in ratings if ratings[key][0]<10]\n",
    "    for k in too_small:  del ratings[k]\n",
    "\n",
    "    store=open('./reviews_dict.p',\"wb\")\n",
    "    pickle.dump(ratings,store)\n",
    "    store.close()\n",
    "    print(\"Stored %i books with at least 10 ratings in %.2f seconds\"%(len(ratings),time.time()-t1))\n",
    "else:\n",
    "    store=open('./reviews_dict.p',\"rb\")\n",
    "    ratings=pickle.load(store)\n",
    "    store.close()\n",
    "    #print(\"Retrieved %i books with at least 10 ratings in %.2f seconds\"%(len(ratings),time.time()-t0))\n",
    "\n",
    "# summarise overall results\n",
    "tot_scores=[0]*6\n",
    "for i in range(6): \n",
    "    tot_scores[i]=sum([ratings[key][i] for key in ratings])    \n",
    "    if i>=1:\n",
    "        print(\"Average %i-star percent: %4.1f%%\"%(i,100*tot_scores[i]/tot_scores[0]))\n",
    "\n",
    "# run the comparison\n",
    "madhack_scores = [madhack12_score(ratings[key]) for key in ratings if ratings[key][3]>0] \n",
    "\n",
    "import numpy as np\n",
    "import matplotlib.pyplot as plt\n",
    "from scipy import stats\n",
    "plt.hist(madhack_scores,bins=range(0,20))\n",
    "print(\"\\n\",stats.describe(madhack_scores))\n",
    "\n",
    "t=0\n",
    "for k,v in ratings.items():\n",
    "    if v[3]>0 and madhack12_score(v)>20:\n",
    "        print(\"https://www.amazon.com/s?k=%s, score=%4.1f, star count=%s\"%(k,madhack12_score(v),v[1:6]))\n",
    "        t+=1\n",
    "        if t>20:break\n"
   ]
  },
  {
   "cell_type": "code",
   "execution_count": 55,
   "metadata": {},
   "outputs": [
    {
     "name": "stdout",
     "output_type": "stream",
     "text": [
      "Retrieved 196511 books with at least 10 ratings in 0.15 seconds\n",
      "Average 1-star percent:  3.6%\n",
      "Average 2-star percent:  4.7%\n",
      "Average 3-star percent: 10.8%\n",
      "Average 4-star percent: 25.2%\n",
      "Average 5-star percent: 55.7%\n",
      "\n",
      " DescribeResult(nobs=156710, minmax=(0.0, 236.0), mean=7.055415386209438, variance=60.19398101546197, skewness=5.1574971888998675, kurtosis=63.0236544115169)\n",
      "https://www.amazon.com/s?k=0007124015 score=21.8, star count=[25, 35, 53, 158, 1133]\n",
      "https://www.amazon.com/s?k=0007386648 score=22.2, star count=[31, 48, 119, 367, 2605]\n",
      "https://www.amazon.com/s?k=006052846X score=25.0, star count=[25, 3, 1, 2, 0]\n",
      "https://www.amazon.com/s?k=0060544244 score=51.0, star count=[28, 5, 1, 6, 23]\n",
      "https://www.amazon.com/s?k=0060775858 score=20.1, star count=[22, 10, 21, 28, 400]\n",
      "https://www.amazon.com/s?k=0062071475 score=32.0, star count=[28, 2, 4, 8, 100]\n",
      "https://www.amazon.com/s?k=0062089374 score=56.0, star count=[25, 2, 1, 10, 31]\n",
      "https://www.amazon.com/s?k=0062292889 score=59.5, star count=[38, 3, 2, 9, 81]\n",
      "https://www.amazon.com/s?k=0141339195 score=20.2, star count=[21, 14, 29, 110, 564]\n",
      "https://www.amazon.com/s?k=0307353486 score=21.9, star count=[50, 12, 9, 27, 147]\n",
      "https://www.amazon.com/s?k=0312427999 score=32.0, star count=[27, 16, 7, 34, 197]\n",
      "https://www.amazon.com/s?k=0375402101 score=21.5, star count=[38, 2, 2, 4, 5]\n",
      "https://www.amazon.com/s?k=0446537519 score=23.9, star count=[38, 6, 13, 29, 273]\n",
      "https://www.amazon.com/s?k=0517605171 score=46.0, star count=[59, 1, 2, 4, 33]\n",
      "https://www.amazon.com/s?k=0525951792 score=49.0, star count=[45, 1, 1, 2, 4]\n",
      "https://www.amazon.com/s?k=0739438069 score=37.8, star count=[21, 27, 16, 59, 583]\n",
      "https://www.amazon.com/s?k=0743572203 score=27.5, star count=[60, 21, 20, 48, 490]\n",
      "https://www.amazon.com/s?k=0743599357 score=20.9, star count=[83, 18, 14, 43, 209]\n",
      "https://www.amazon.com/s?k=0786183616 score=48.1, star count=[221, 12, 10, 50, 260]\n",
      "https://www.amazon.com/s?k=0833524658 score=27.8, star count=[76, 17, 17, 24, 396]\n",
      "https://www.amazon.com/s?k=0842305068 score=35.5, star count=[35, 2, 2, 7, 36]\n"
     ]
    },
    {
     "data": {
      "image/png": "[encoded data removed]",
      "text/plain": [
       "<Figure size 432x288 with 1 Axes>"
      ]
     },
     "metadata": {
      "needs_background": "light"
     },
     "output_type": "display_data"
    }
   ],
   "source": [
    "import time\n",
    "import os\n",
    "import pickle\n",
    "\n",
    "def madhack12_score(book):\n",
    "    return (book[1]+book[5])/book[3]\n",
    "    \n",
    "t0 = time.time()\n",
    "ratings=dict()  # dictionary, keyed by book \"asin\" number, with value a 6-part tuple, (num_scores, 1starcount, ... ,5starcount)\n",
    "\n",
    "store=open('./reviews_dict.p',\"rb\")\n",
    "ratings=pickle.load(store)\n",
    "store.close()\n",
    "print(\"Retrieved %i books with at least 10 ratings in %.2f seconds\"%(len(ratings),time.time()-t0))\n",
    "\n",
    "# summarise overall results\n",
    "tot_scores=[0]*6\n",
    "for i in range(6): \n",
    "    tot_scores[i]=sum([ratings[key][i] for key in ratings])    \n",
    "    if i>=1:\n",
    "        print(\"Average %i-star percent: %4.1f%%\"%(i,100*tot_scores[i]/tot_scores[0]))\n",
    "\n",
    "# run the comparison: each book is keyed by Amazon's \"asin\"\n",
    "madhack_scores = [madhack12_score(ratings[key]) for key in ratings if ratings[key][3]>0] \n",
    "\n",
    "import numpy as np\n",
    "import matplotlib.pyplot as plt\n",
    "from scipy import stats\n",
    "plt.hist(madhack_scores,bins=range(0,20))\n",
    "print(\"\\n\",stats.describe(madhack_scores))\n",
    "\n",
    "t=0\n",
    "for k,v in ratings.items():\n",
    "    if v[3]>0 and madhack12_score(v)>20 and v[1]>20:\n",
    "        print(\"https://www.amazon.com/s?k=%s score=%4.1f, star count=%s\"%(k,madhack12_score(v),v[1:6]))\n",
    "        t+=1\n",
    "        if t>20:break   #stop after first few or we'd be here forever"
   ]
  }
 ],
 "metadata": {
  "kernelspec": {
   "display_name": "Python 3",
   "language": "python",
   "name": "python3"
  },
  "language_info": {
   "codemirror_mode": {
    "name": "ipython",
    "version": 3
   },
   "file_extension": ".py",
   "mimetype": "text/x-python",
   "name": "python",
   "nbconvert_exporter": "python",
   "pygments_lexer": "ipython3",
   "version": "3.7.6"
  }
 },
 "nbformat": 4,
 "nbformat_minor": 4
}
